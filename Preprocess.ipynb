{
 "cells": [
  {
   "cell_type": "code",
   "execution_count": 143,
   "metadata": {
    "collapsed": true
   },
   "outputs": [],
   "source": [
    "\n",
    "##reading file\n",
    "import os\n",
    "path = 'a.txt'\n",
    "# text = open(path,'r').read().replace('\\n',' ')\n",
    "text = open(path,'r',encoding='utf-8', errors='ignore').read().replace('\\n','')\n",
    "import re"
   ]
  },
  {
   "cell_type": "code",
   "execution_count": 144,
   "metadata": {
    "collapsed": true
   },
   "outputs": [],
   "source": [
    "#check if the url is valid\n",
    "URL_REGEX = re.compile(\n",
    "    u\"^\"\n",
    "    # protocol identifier\n",
    "    u\"(?:(?:https?|ftp)://)\"\n",
    "    # user:pass authentication\n",
    "    u\"(?:\\S+(?::\\S*)?@)?\"\n",
    "    u\"(?:\"\n",
    "    # IP address exclusion\n",
    "    # private & local networks\n",
    "    u\"(?!(?:10|127)(?:\\.\\d{1,3}){3})\"\n",
    "    u\"(?!(?:169\\.254|192\\.168)(?:\\.\\d{1,3}){2})\"\n",
    "    u\"(?!172\\.(?:1[6-9]|2\\d|3[0-1])(?:\\.\\d{1,3}){2})\"\n",
    "    # IP address dotted notation octets\n",
    "    # excludes loopback network 0.0.0.0\n",
    "    # excludes reserved space >= 224.0.0.0\n",
    "    # excludes network & broadcast addresses\n",
    "    # (first & last IP address of each class)\n",
    "    u\"(?:[1-9]\\d?|1\\d\\d|2[01]\\d|22[0-3])\"\n",
    "    u\"(?:\\.(?:1?\\d{1,2}|2[0-4]\\d|25[0-5])){2}\"\n",
    "    u\"(?:\\.(?:[1-9]\\d?|1\\d\\d|2[0-4]\\d|25[0-4]))\"\n",
    "    u\"|\"\n",
    "    # host name\n",
    "    u\"(?:(?:[a-z\\u00a1-\\uffff0-9]-?)*[a-z\\u00a1-\\uffff0-9]+)\"\n",
    "    # domain name\n",
    "    u\"(?:\\.(?:[a-z\\u00a1-\\uffff0-9]-?)*[a-z\\u00a1-\\uffff0-9]+)*\"\n",
    "    # TLD identifier\n",
    "    u\"(?:\\.(?:[a-z\\u00a1-\\uffff]{2,}))\"\n",
    "    u\")\"\n",
    "    # port number\n",
    "    u\"(?::\\d{2,5})?\"\n",
    "    # resource path\n",
    "    u\"(?:/\\S*)?\"\n",
    "    u\"$\"\n",
    "    , re.UNICODE)"
   ]
  },
  {
   "cell_type": "code",
   "execution_count": 155,
   "metadata": {},
   "outputs": [
    {
     "name": "stdout",
     "output_type": "stream",
     "text": [
      "0\n"
     ]
    }
   ],
   "source": [
    "#3.2.1 ip value detection\n",
    "\n",
    "import re\n",
    "re_ip = re.compile(\"\\d{1,3}\\.\\d{1,3}\\.\\d{1,3}\\.\\d{1,3}\")\n",
    "re_url = re.compile('https?://(?:[-\\w.]|(?:%[\\da-fA-F]{2}))+')\n",
    "urls = re.findall(re_url, text)\n",
    "\n",
    "ip=0\n",
    "for url in urls:\n",
    "#     print(url)\n",
    "#     print('\\n')\n",
    "    if len(re.findall(re_ip,url)) is not 0:\n",
    "        ip=1\n",
    "        \n",
    "print(ip)\n"
   ]
  },
  {
   "cell_type": "code",
   "execution_count": 146,
   "metadata": {
    "collapsed": true
   },
   "outputs": [],
   "source": [
    "#return domain \n",
    "def get_domain(url):\n",
    "    domain = url.split(\"//www.\")[-1].split(\"/\")[0].split('?')[0]\n",
    "    if(domain == 'http:' or domain == 'https:'):\n",
    "        domain = url.split(\"//\")[-1].split(\"/\")[0].split('?')[0]\n",
    "    domain_list = domain.split('.')\n",
    "    if(len(domain_list) > 2):\n",
    "        domain = domain_list[len(domain_list)-2] +'.'+domain_list[len(domain_list)-1]\n",
    "    return domain"
   ]
  },
  {
   "cell_type": "code",
   "execution_count": 147,
   "metadata": {},
   "outputs": [
    {
     "data": {
      "text/plain": [
       "1"
      ]
     },
     "execution_count": 147,
     "metadata": {},
     "output_type": "execute_result"
    }
   ],
   "source": [
    "#3.2.2 href\n",
    "import requests\n",
    "from bs4 import BeautifulSoup \n",
    "\n",
    "soup = BeautifulSoup(text,'lxml')\n",
    "links = soup.find_all(\"a\")\n",
    "href_Check_value =0\n",
    "for link in links:\n",
    "    if type(link.get(\"href\")) is str:\n",
    "        if len(re.findall(URL_REGEX,link.get(\"href\"))) != 0:\n",
    "            if(len(re.findall(URL_REGEX,link.text))) !=0:\n",
    "                link1 = re.findall(URL_REGEX,link.get(\"href\"));\n",
    "                link2 = re.findall(URL_REGEX,link.text);\n",
    "                if( (get_domain(link1[0])).lower() != (get_domain(link2[0])).lower() ):\n",
    "                    href_Check_value =1\n",
    "                    break\n",
    "href_Check_value"
   ]
  },
  {
   "cell_type": "code",
   "execution_count": 148,
   "metadata": {},
   "outputs": [
    {
     "data": {
      "text/plain": [
       "1"
      ]
     },
     "execution_count": 148,
     "metadata": {},
     "output_type": "execute_result"
    }
   ],
   "source": [
    "#3.2.3 linkcheck\n",
    "linkclickcheck=0\n",
    "linktexts = ['Click', 'Here', 'Login', 'Update', 'Link']\n",
    "\n",
    "for link in links:\n",
    "    if type(link.text) is str:\n",
    "        for linktext in linktexts:\n",
    "            pattern = re.compile(linktext)\n",
    "            matches = pattern.findall(link.text)\n",
    "            if len(matches) !=0:\n",
    "                linkclickcheck=1\n",
    "                break\n",
    "linkclickcheck"
   ]
  },
  {
   "cell_type": "code",
   "execution_count": 149,
   "metadata": {},
   "outputs": [
    {
     "data": {
      "text/plain": [
       "0"
      ]
     },
     "execution_count": 149,
     "metadata": {},
     "output_type": "execute_result"
    }
   ],
   "source": [
    "#3.2.4 dots in domain name\n",
    "def dot_count(domain):\n",
    "    domain_list = domain.split('.')\n",
    "    if(len(domain_list) > 4):\n",
    "        return 1\n",
    "    else:\n",
    "        return 0\n",
    "\n",
    "dotcount=0\n",
    "for url in urls:\n",
    "    domain = get_domain(url)\n",
    "    if (dot_count(domain)):\n",
    "        dotcount=1\n",
    "        break\n",
    "dotcount"
   ]
  },
  {
   "cell_type": "code",
   "execution_count": 151,
   "metadata": {},
   "outputs": [
    {
     "data": {
      "text/plain": [
       "1"
      ]
     },
     "execution_count": 151,
     "metadata": {},
     "output_type": "execute_result"
    }
   ],
   "source": [
    "#3.2.5 mime\n",
    "mime=0\n",
    "if \"Content-Type: text/html\" in text:\n",
    "    mime=1\n",
    "mime"
   ]
  },
  {
   "cell_type": "code",
   "execution_count": 161,
   "metadata": {},
   "outputs": [
    {
     "data": {
      "text/plain": [
       "0"
      ]
     },
     "execution_count": 161,
     "metadata": {},
     "output_type": "execute_result"
    }
   ],
   "source": [
    "#3.2.6 Javascript\n",
    "\n",
    "javapresent = 0\n",
    "links = soup.find_all(\"script\")\n",
    "if(len(links)>0):\n",
    "    javapresent = 1\n",
    "javapresent"
   ]
  },
  {
   "cell_type": "code",
   "execution_count": 153,
   "metadata": {},
   "outputs": [
    {
     "data": {
      "text/plain": [
       "39"
      ]
     },
     "execution_count": 153,
     "metadata": {},
     "output_type": "execute_result"
    }
   ],
   "source": [
    "#3.2.7  linksnumber\n",
    "urls = re.findall(re_url, text)\n",
    "linknumber = len(urls)\n",
    "linknumber"
   ]
  },
  {
   "cell_type": "code",
   "execution_count": 154,
   "metadata": {},
   "outputs": [
    {
     "data": {
      "text/plain": [
       "5"
      ]
     },
     "execution_count": 154,
     "metadata": {},
     "output_type": "execute_result"
    }
   ],
   "source": [
    "#3.2.8 unique domains\n",
    "domain_set = set()\n",
    "\n",
    "for url in urls:\n",
    "    domain_set.add(get_domain(url))\n",
    "uniquedomain = len(domain_set)\n",
    "\n",
    "uniquedomain"
   ]
  },
  {
   "cell_type": "code",
   "execution_count": null,
   "metadata": {
    "collapsed": true
   },
   "outputs": [],
   "source": [
    "#3.2.9 Body"
   ]
  },
  {
   "cell_type": "code",
   "execution_count": 159,
   "metadata": {},
   "outputs": [
    {
     "name": "stdout",
     "output_type": "stream",
     "text": [
      "[0, 3, 0, 0, 9, 0]\n"
     ]
    }
   ],
   "source": [
    "#3.2.10 Word List Features\n",
    "spam_dict = {'update' : 0,'confirm' : 0,'user' : 1,'customer' : 1,'client' : 1,'suspend' : 2,'restrict' : 2,'hold' : 2,\n",
    "            'verify' : 3,'account' : 3,'notif' : 3,'login' : 4,'username' : 4,'password' : 4,'click' : 4,'log' : 4,\n",
    "            'ssn' : 5,'social security' : 5,'secur' : 5,'inconvinien' : 5}\n",
    "\n",
    "def spam_occurence(file_text):\n",
    "    spam_count = [0,0,0,0,0,0]\n",
    "    for key,value in spam_dict.items():\n",
    "        pattern = re.compile(key)\n",
    "        matches = pattern.findall(file_text)\n",
    "        #print(key,len(matches))\n",
    "#         print(type(value))\n",
    "        spam_count[value] += len(matches)\n",
    "    return spam_count\n",
    "\n",
    "wordlist = spam_occurence(text)\n",
    "\n",
    "print(wordlist)"
   ]
  },
  {
   "cell_type": "code",
   "execution_count": 171,
   "metadata": {
    "collapsed": true
   },
   "outputs": [],
   "source": [
    "list3 = []"
   ]
  },
  {
   "cell_type": "code",
   "execution_count": 172,
   "metadata": {
    "collapsed": true
   },
   "outputs": [],
   "source": [
    "list1 = [2,3]\n",
    "list2 = [4,5]"
   ]
  },
  {
   "cell_type": "code",
   "execution_count": 173,
   "metadata": {
    "collapsed": true
   },
   "outputs": [],
   "source": [
    "list3.append(list1)\n",
    "list3.append(list2)"
   ]
  },
  {
   "cell_type": "code",
   "execution_count": 174,
   "metadata": {},
   "outputs": [
    {
     "data": {
      "text/plain": [
       "[[2, 3], [4, 5]]"
      ]
     },
     "execution_count": 174,
     "metadata": {},
     "output_type": "execute_result"
    }
   ],
   "source": [
    "list3"
   ]
  },
  {
   "cell_type": "code",
   "execution_count": 175,
   "metadata": {
    "collapsed": true
   },
   "outputs": [],
   "source": [
    "list4=[]"
   ]
  },
  {
   "cell_type": "code",
   "execution_count": 176,
   "metadata": {
    "collapsed": true
   },
   "outputs": [],
   "source": [
    "list3.append(list4)"
   ]
  },
  {
   "cell_type": "code",
   "execution_count": 177,
   "metadata": {},
   "outputs": [
    {
     "data": {
      "text/plain": [
       "[[2, 3], [4, 5], []]"
      ]
     },
     "execution_count": 177,
     "metadata": {},
     "output_type": "execute_result"
    }
   ],
   "source": [
    "list3"
   ]
  },
  {
   "cell_type": "code",
   "execution_count": 179,
   "metadata": {
    "collapsed": true
   },
   "outputs": [],
   "source": [
    "import pandas as pd"
   ]
  },
  {
   "cell_type": "code",
   "execution_count": 185,
   "metadata": {},
   "outputs": [],
   "source": [
    "ham_list = pd.read_csv('ham.csv', header =None )"
   ]
  },
  {
   "cell_type": "code",
   "execution_count": 186,
   "metadata": {
    "collapsed": true
   },
   "outputs": [],
   "source": [
    "spam_list = pd.read_csv('spam.csv', header = None)"
   ]
  },
  {
   "cell_type": "code",
   "execution_count": 187,
   "metadata": {
    "collapsed": true
   },
   "outputs": [],
   "source": [
    "data = pd.concat([ham_list,spam_list], axis=0)"
   ]
  },
  {
   "cell_type": "code",
   "execution_count": 188,
   "metadata": {},
   "outputs": [
    {
     "name": "stdout",
     "output_type": "stream",
     "text": [
      "(6951, 16) (3793, 16) (10744, 16)\n"
     ]
    }
   ],
   "source": [
    "\n",
    "print(ham_list.shape, spam_list.shape, data.shape)"
   ]
  },
  {
   "cell_type": "code",
   "execution_count": 189,
   "metadata": {
    "collapsed": true
   },
   "outputs": [],
   "source": [
    "from sklearn.utils import shuffle\n",
    "data = shuffle(data)"
   ]
  },
  {
   "cell_type": "code",
   "execution_count": 191,
   "metadata": {
    "collapsed": true
   },
   "outputs": [],
   "source": [
    "X = data.iloc[ :,:-1]\n",
    "Y = data.iloc[ :,-1]"
   ]
  },
  {
   "cell_type": "code",
   "execution_count": 192,
   "metadata": {},
   "outputs": [
    {
     "data": {
      "text/plain": [
       "((10744, 15), (10744,))"
      ]
     },
     "execution_count": 192,
     "metadata": {},
     "output_type": "execute_result"
    }
   ],
   "source": [
    "X.shape, Y.shape"
   ]
  },
  {
   "cell_type": "code",
   "execution_count": 208,
   "metadata": {
    "collapsed": true
   },
   "outputs": [],
   "source": [
    "from sklearn.model_selection import train_test_split\n",
    "X_train, X_test, y_train, y_test = train_test_split(X, Y, test_size=0.15, shuffle = True)"
   ]
  },
  {
   "cell_type": "code",
   "execution_count": 209,
   "metadata": {
    "collapsed": true
   },
   "outputs": [],
   "source": [
    "from sklearn.ensemble import RandomForestClassifier\n",
    "rf = RandomForestClassifier(n_estimators=20, criterion='entropy', max_features=8, bootstrap=True)\n"
   ]
  },
  {
   "cell_type": "code",
   "execution_count": 210,
   "metadata": {
    "collapsed": true
   },
   "outputs": [],
   "source": [
    "rf.fit(X_train, y_train)\n",
    "y_pred = rf.predict(X_test)\n",
    "y_pred = pd.DataFrame(y_pred)"
   ]
  },
  {
   "cell_type": "code",
   "execution_count": 211,
   "metadata": {},
   "outputs": [
    {
     "name": "stdout",
     "output_type": "stream",
     "text": [
      "Precision, recall, fscore, support:  (0.9117647058823529, 0.8378378378378378, 0.8732394366197184, None)\n"
     ]
    }
   ],
   "source": [
    "from sklearn.metrics import precision_recall_fscore_support\n",
    "print(\"Precision, recall, fscore, support: \",precision_recall_fscore_support(y_test, y_pred, average='binary'))"
   ]
  },
  {
   "cell_type": "code",
   "execution_count": 212,
   "metadata": {},
   "outputs": [
    {
     "name": "stdout",
     "output_type": "stream",
     "text": [
      "Accuracy:  0.9162531017369727\n"
     ]
    }
   ],
   "source": [
    "from sklearn.metrics import accuracy_score\n",
    "print(\"Accuracy: \",accuracy_score(y_test, y_pred))"
   ]
  },
  {
   "cell_type": "code",
   "execution_count": 213,
   "metadata": {},
   "outputs": [
    {
     "name": "stdout",
     "output_type": "stream",
     "text": [
      "TN, FN:  1012 90\n",
      "TP, FP:  465 45\n"
     ]
    }
   ],
   "source": [
    "from sklearn.metrics import confusion_matrix\n",
    "CM = confusion_matrix(y_test, y_pred)\n",
    "TN = CM[0][0]\n",
    "FN = CM[1][0]\n",
    "TP = CM[1][1]\n",
    "FP = CM[0][1]\n",
    "\n",
    "print(\"TN, FN: \", TN, FN)\n",
    "print(\"TP, FP: \", TP, FP)"
   ]
  },
  {
   "cell_type": "code",
   "execution_count": null,
   "metadata": {
    "collapsed": true
   },
   "outputs": [],
   "source": []
  },
  {
   "cell_type": "code",
   "execution_count": null,
   "metadata": {
    "collapsed": true
   },
   "outputs": [],
   "source": []
  }
 ],
 "metadata": {
  "kernelspec": {
   "display_name": "Python 3",
   "language": "python",
   "name": "python3"
  },
  "language_info": {
   "codemirror_mode": {
    "name": "ipython",
    "version": 3
   },
   "file_extension": ".py",
   "mimetype": "text/x-python",
   "name": "python",
   "nbconvert_exporter": "python",
   "pygments_lexer": "ipython3",
   "version": "3.6.6"
  }
 },
 "nbformat": 4,
 "nbformat_minor": 2
}
